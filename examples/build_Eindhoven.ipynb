{
 "cells": [
  {
   "cell_type": "markdown",
   "id": "9a73590b",
   "metadata": {},
   "source": [
    "## Build a HybridUrb model from Delft3DFM - example of Eindhoven (In progress)"
   ]
  },
  {
   "cell_type": "markdown",
   "id": "ee510c6e",
   "metadata": {},
   "source": [
    "This notebook demonstrates how to prepare a **HybridUrb** model from **Delft3D FM** model using an example of Eindhoven."
   ]
  },
  {
   "cell_type": "markdown",
   "metadata": {},
   "source": [
    "### Preperation"
   ]
  },
  {
   "cell_type": "markdown",
   "metadata": {},
   "source": [
    "> **NOTE**: \n",
    "All lines in this notebook which start with `!` are executed from the command line. Within the notebook environment the logging messages are shown after completion. You can also copy these lines and paste these in your shell to get more direct feedback."
   ]
  },
  {
   "cell_type": "markdown",
   "metadata": {},
   "source": [
    "Running notebook requires the installation of dependencies which can be done by:"
   ]
  },
  {
   "cell_type": "code",
   "execution_count": null,
   "metadata": {},
   "outputs": [],
   "source": [
    "# This should return Requirement already satisfied if installation is complete.\n",
    "!pip install hybridurb[examples]"
   ]
  },
  {
   "cell_type": "markdown",
   "id": "2c70853e",
   "metadata": {},
   "source": [
    "HybridUrb has a main dependency which is **hydromt-delft3dfm**. It provides api access Delft3D FM model files. \n",
    "The current example notebook needs newest development of hydromt-delft3dfm v0.2.0.dev0. We can install it from git repository:\n"
   ]
  },
  {
   "cell_type": "code",
   "execution_count": null,
   "metadata": {},
   "outputs": [],
   "source": [
    "!pip install git+https://github.com/Deltares/hydromt_delft3dfm.git"
   ]
  },
  {
   "cell_type": "markdown",
   "metadata": {},
   "source": [
    "Check if the HydroMT-Delft3D FM dependency is installed correctly:"
   ]
  },
  {
   "cell_type": "code",
   "execution_count": null,
   "id": "40470302",
   "metadata": {},
   "outputs": [],
   "source": [
    "# this should return \"dflowfm (hydromt_delft3dfm 0.2.0.dev0)\" to build DFlowFM components of Delft3D FM\n",
    "!hydromt --models"
   ]
  },
  {
   "cell_type": "markdown",
   "metadata": {},
   "source": [
    "After that checks out, we can start python and load all the neccessary packages:"
   ]
  },
  {
   "cell_type": "code",
   "execution_count": null,
   "metadata": {},
   "outputs": [],
   "source": [
    "import logging\n",
    "from pathlib import Path\n",
    "from typing import Optional\n",
    "\n",
    "import geopandas as gpd\n",
    "import numpy as np\n",
    "from pyproj import CRS\n",
    "import matplotlib.pyplot as plt\n",
    "\n",
    "import hybridurb.networksutils.delft3dfm_utils as delft3dfm_utils\n",
    "from hydromt_delft3dfm import DFlowFMModel"
   ]
  },
  {
   "cell_type": "markdown",
   "id": "7584dcae",
   "metadata": {},
   "source": [
    "### Delft3D FM model for Eindhoven"
   ]
  },
  {
   "cell_type": "markdown",
   "id": "dad35651",
   "metadata": {},
   "source": [
    "First, let's have a quick look at the Eindhoven model. "
   ]
  },
  {
   "cell_type": "code",
   "execution_count": null,
   "metadata": {},
   "outputs": [],
   "source": [
    "# Define the root path where the project files are located\n",
    "model_root = Path(r\"..\\data\\Eindhoven\\Delft3DFM\")\n",
    "\n",
    "# Define the filename of the Delft3D FM model configuration file (*.mdu) as relative path to the model root.\n",
    "mdu_fn = \"dflowfm\\FlowFM.mdu\"\n",
    "\n",
    "# read the delft3dfm model (there will be an error message but we can ignore that)\n",
    "model = DFlowFMModel(root=model_root, config_fn=mdu_fn, mode=\"r+\", crs=28992)\n",
    "\n",
    "# read the clip region\n",
    "clip_region = gpd.read_file(r\"..\\data\\Eindhoven\\region.geojson\")\n",
    "\n",
    "# make a plot of the model and the region of interest\n",
    "fig, ax = plt.subplots()\n",
    "model.geoms[\"branches\"].plot(ax=ax, color=\"tab:blue\", zorder=1)\n",
    "clip_region.plot(ax=ax, color = 'yellow', alpha = 0.5)"
   ]
  },
  {
   "cell_type": "markdown",
   "id": "ebd31242",
   "metadata": {},
   "source": [
    "### Model setup configuration "
   ]
  },
  {
   "cell_type": "markdown",
   "id": "fb8282c9",
   "metadata": {},
   "source": [
    "The model configuration file (YML) contains the model setup configuration and determines which methods are used to prepare the HybridUrb and in which order and optionally sets non-default arguments for each method. We have prepared an example yml-file for Eindhoven example which are available in the model repository [examples folder](https://github.com/xldeltares/hybridurb/tree/main/examples/Eindhoven). \n",
    "\n",
    "Each section, before indent, (e.g. get_geoms_from_model) corresponds to a model method. All model methods are explained in the [docs (model components)](https://xldeltares.github.io/hybridurb/api.html). The `global` section contains direct model initialisation properties. "
   ]
  },
  {
   "cell_type": "markdown",
   "id": "cc3fd44d",
   "metadata": {},
   "source": [
    "We will load the provided config.yaml file for Eindhoven for inspection:"
   ]
  },
  {
   "cell_type": "code",
   "execution_count": null,
   "id": "e88d4aed",
   "metadata": {},
   "outputs": [],
   "source": [
    "fn_yml = Path(\"Eindhoven/config.yml\")\n",
    "with open(fn_yml, \"r\") as f:\n",
    "    txt = f.read()\n",
    "print(txt)"
   ]
  },
  {
   "cell_type": "markdown",
   "id": "9607a239",
   "metadata": {},
   "source": [
    "\n",
    "Looking at this file, you see that we will prepare the following information for our model:\n",
    "\n",
    "- global: Here we specify the root directry of where we work. The region argument determines the model bounds. Our model will be defined in the projected CRS EPSG 28992.\n",
    "- get_geoms_from_model: We will derive the geometry files for setting up the networkm model of HybridUrb from an existing external model, in this case, Delft3D FM. The model is located in the model_root. For Delft3D FM model, an mdu file is needed as main configuration. This is provided as mdu_fn. \n",
    "- setup_networkmodel: We will setup the network model from the geometry derived from the previous step.   \n"
   ]
  },
  {
   "cell_type": "markdown",
   "id": "b0242689",
   "metadata": {},
   "source": [
    "> **NOTE**: \n",
    "  In the setup_networkmodel step, because the geometries are already derived, we dont need much information for this function. More arguments will be supported in the future."
   ]
  },
  {
   "cell_type": "markdown",
   "id": "12860ed2",
   "metadata": {},
   "source": [
    "### Set up a HybridUrb network"
   ]
  },
  {
   "cell_type": "markdown",
   "metadata": {},
   "source": [
    "After geometries are derived, we can setup a HybirdUrb network using the functions below:"
   ]
  },
  {
   "cell_type": "code",
   "execution_count": null,
   "id": "hundred-trailer",
   "metadata": {
    "scrolled": true
   },
   "outputs": [],
   "source": [
    "from hybridurb.networksutils.network_from_delft3dfm import Delft3dfmNetworkWrapper\n",
    "mywrapper = Delft3dfmNetworkWrapper(fn_yml)\n",
    "mywrapper.get_geoms_from_model()\n",
    "mywrapper.get_network_from_geoms()"
   ]
  },
  {
   "cell_type": "markdown",
   "id": "b31e92d2",
   "metadata": {},
   "source": [
    "> **NOTE**:\n",
    "    The example above now uses python to directly interact with HybridUrb. That is because we have not yet finished the implementation of the entire HybridUrb model buildig functions. In the future, we will support [hydromt build](https://deltares.github.io/hydromt/latest/user_guide/model_build.html) methods."
   ]
  },
  {
   "cell_type": "markdown",
   "metadata": {},
   "source": [
    "### Setup a HybridUrb dataset"
   ]
  },
  {
   "cell_type": "markdown",
   "metadata": {},
   "source": [
    "After the network is setup, we can setup datasets that facilates the training of the hybridurb machine learning model component. "
   ]
  },
  {
   "cell_type": "markdown",
   "metadata": {},
   "source": [
    "### Calibrate a HybridUrb model"
   ]
  },
  {
   "cell_type": "markdown",
   "id": "adef7fa1",
   "metadata": {},
   "source": [
    "### Visualize and/or inspect model schematization"
   ]
  },
  {
   "cell_type": "markdown",
   "metadata": {},
   "source": [
    "### Run a HybridUrb model"
   ]
  }
 ],
 "metadata": {
  "kernelspec": {
   "display_name": "waterbom",
   "language": "python",
   "name": "python3"
  },
  "language_info": {
   "codemirror_mode": {
    "name": "ipython",
    "version": 3
   },
   "file_extension": ".py",
   "mimetype": "text/x-python",
   "name": "python",
   "nbconvert_exporter": "python",
   "pygments_lexer": "ipython3",
   "version": "3.11.6"
  },
  "vscode": {
   "interpreter": {
    "hash": "5fda536963eae36dbaef69f7df44483d2713515b4e134e53fb983ec0eb9438d0"
   }
  }
 },
 "nbformat": 4,
 "nbformat_minor": 5
}
