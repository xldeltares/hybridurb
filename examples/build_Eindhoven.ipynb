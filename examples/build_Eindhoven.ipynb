{
 "cells": [
  {
   "cell_type": "markdown",
   "id": "9a73590b",
   "metadata": {},
   "source": [
    "## Build a HybridUrb model from Delft3DFM - example of Eindhoven"
   ]
  },
  {
   "cell_type": "markdown",
   "id": "ee510c6e",
   "metadata": {},
   "source": [
    "This notebook demonstrates how to prepare a **HybridUrb** model from **Delft3D FM** model using an example of Eindhoven."
   ]
  },
  {
   "cell_type": "markdown",
   "metadata": {},
   "source": [
    "### Preperation"
   ]
  },
  {
   "cell_type": "markdown",
   "metadata": {},
   "source": [
    "> **NOTE**: \n",
    "All lines in this notebook which start with `!` are executed from the command line. Within the notebook environment the logging messages are shown after completion. You can also copy these lines and paste these in your shell to get more direct feedback."
   ]
  },
  {
   "cell_type": "markdown",
   "metadata": {},
   "source": [
    "Running notebook requires the installation of dependencies which can be done by:"
   ]
  },
  {
   "cell_type": "code",
   "execution_count": null,
   "metadata": {},
   "outputs": [],
   "source": [
    "# This should return Requirement already satisfied if installation is complete.\n",
    "!pip install hybridurb[examples]"
   ]
  },
  {
   "cell_type": "markdown",
   "id": "2c70853e",
   "metadata": {},
   "source": [
    "HybridUrb has a main dependency which is **hydromt-delft3dfm**. It provides api access Delft3D FM model files. \n",
    "The current example notebook needs newest development of hydromt-delft3dfm v0.2.0.dev0. We can install it from git repository:\n"
   ]
  },
  {
   "cell_type": "code",
   "execution_count": null,
   "metadata": {},
   "outputs": [],
   "source": [
    "!pip install git+https://github.com/Deltares/hydromt_delft3dfm.git"
   ]
  },
  {
   "cell_type": "markdown",
   "metadata": {},
   "source": [
    "Check if the HydroMT-Delft3D FM dependency is installed correctly:"
   ]
  },
  {
   "cell_type": "code",
   "execution_count": null,
   "id": "40470302",
   "metadata": {},
   "outputs": [],
   "source": [
    "# this should return \"dflowfm (hydromt_delft3dfm 0.2.0.dev0)\" to build DFlowFM components of Delft3D FM\n",
    "!hydromt --models"
   ]
  },
  {
   "cell_type": "markdown",
   "metadata": {},
   "source": [
    "After that checks out, we can start python and load all the neccessary packages:"
   ]
  },
  {
   "cell_type": "code",
   "execution_count": null,
   "metadata": {},
   "outputs": [],
   "source": [
    "import logging\n",
    "from pathlib import Path\n",
    "from typing import Optional\n",
    "\n",
    "import geopandas as gpd\n",
    "import numpy as np\n",
    "from pyproj import CRS\n",
    "import matplotlib.pyplot as plt\n",
    "\n",
    "import hybridurb.networksutils.delft3dfm_utils as delft3dfm_utils\n",
    "from hydromt_delft3dfm import DFlowFMModel"
   ]
  },
  {
   "cell_type": "markdown",
   "id": "7584dcae",
   "metadata": {},
   "source": [
    "### Delft3D FM model for Eindhoven"
   ]
  },
  {
   "cell_type": "markdown",
   "id": "dad35651",
   "metadata": {},
   "source": [
    "First, let's have a quick look at the Eindhoven model. "
   ]
  },
  {
   "cell_type": "code",
   "execution_count": null,
   "metadata": {},
   "outputs": [],
   "source": [
    "# Define the root path where the project files are located\n",
    "model_root = Path(r\"..\\data\\Eindhoven\\Delft3DFM\")\n",
    "\n",
    "# Define the filename of the Delft3D FM model configuration file (*.mdu) as relative path to the model root.\n",
    "mdu_fn = \"dflowfm\\FlowFM.mdu\"\n",
    "\n",
    "# read the delft3dfm model (there will be an error message but we can ignore that)\n",
    "model = DFlowFMModel(root=model_root, config_fn=mdu_fn, mode=\"r+\", crs=28992)\n",
    "\n",
    "# read the clip region\n",
    "clip_region = gpd.read_file(r\"..\\data\\Eindhoven\\region.geojson\")\n",
    "\n",
    "# make a plot of the model and the region of interest\n",
    "fig, ax = plt.subplots()\n",
    "model.geoms[\"branches\"].plot(ax=ax, color=\"tab:blue\", zorder=1)\n",
    "clip_region.plot(ax=ax, color = 'yellow', alpha = 0.5)"
   ]
  },
  {
   "cell_type": "markdown",
   "id": "ebd31242",
   "metadata": {},
   "source": [
    "### Model setup configuration"
   ]
  },
  {
   "cell_type": "markdown",
   "id": "fb8282c9",
   "metadata": {},
   "source": [
    "#FIXME\n",
    "The network model configuration file (YML) contains the model setup configuration and determines which methods are used to prepare the HybridUrb and in which order and optionally sets non-default arguments for each method. We have prepared several example yml-files which are available in the model repository [examples folder](https://github.com/xldeltares/hybridurb/tree/main/examples) and from the [docs (building a model)](https://deltares.github.io/hydromt_delft3dfm/latest/user_guide/dflowfm_build). \n",
    "\n",
    "Each section, before indent, (e.g. get_geoms_from_model) corresponds to a model method. All model methods are explained in the [docs (model components)](https://deltares.github.io/hydromt_delft3dfm/latest/user_guide/dflowfm_model_setup.html). The `global` section contains direct model initialisation properties. "
   ]
  },
  {
   "cell_type": "markdown",
   "id": "cc3fd44d",
   "metadata": {},
   "source": [
    "We will load the provided config.yaml file for Eindhoven for inspection:"
   ]
  },
  {
   "cell_type": "code",
   "execution_count": null,
   "id": "e88d4aed",
   "metadata": {},
   "outputs": [],
   "source": [
    "fn_yml = Path(\"Eindhoven/config.yml\")\n",
    "with open(fn_yml, \"r\") as f:\n",
    "    txt = f.read()\n",
    "print(txt)"
   ]
  },
  {
   "cell_type": "markdown",
   "id": "9607a239",
   "metadata": {},
   "source": [
    "#FIXME\n",
    "Looking at this file, you see that we will prepare the following information for our model:\n",
    "\n",
    "- [global](https://deltares.github.io/hydromt_delft3dfm/latest/_generated/hydromt_delft3dfm.DFlowFMModel.html#hydromt_delft3dfm.DFlowFMModel): Our model will be defined in the projected CRS WGS84 EPSG 3857. TO ensure the 1D network is connected, we will allow snapping of 25 meters using argument network_snap_offset. The 1D computational grid for the open water system will be created at 40 meters distance using argument openwater_computation_node_distance. \n",
    "- [get_geoms_from_model](https://deltares.github.io/hydromt_delft3dfm/latest/_generated/hydromt_delft3dfm.DFlowFMModel.setup_rivers_from_dem.html): We will derive the 1D rivers lines based on the *MERIT Hydro DEM* and that intersects with the region bounding box [12.4331, 46.4661, 12.5212, 46.5369]. River roughness will be a Manning constant of 25.0 and we will use data from *rivers_lin2019* database to prepare rectangular cross-sections. \n",
    "- [setup_networkmodel](https://deltares.github.io/hydromt_delft3dfm/latest/_generated/hydromt_delft3dfm.DFlowFMModel.setup_pipes.html): We will add pipes by assuming that they are located under the roads, with a standard length of 50 meters. The roads are defined in the *grip_roads* data and the standard length are defined in the argument spacing. Roughness will be a WhiteColeBrook constant of 0.003 and we will use a circular cross-sections of 0.5m. The pipes invert levels will be derived from the *MERIT Hydro DEM* assuming a constant depth of the pipe underground of 2 meters. \n",
    "\n",
    "Feel free to use the links of each components to know more about how each function works and what are all the available settings."
   ]
  },
  {
   "cell_type": "markdown",
   "id": "b0242689",
   "metadata": {},
   "source": [
    "> **NOTE**: \n",
    "  In this example, we apply region argument in both setup_rivers_from_dem and setup_pipes. They are identical in this example but one can alter them to have different region for rivers and for pipes. This allows the user to customize their model as much as possible, as the extent of the 1D river can differ from the extent of the 1D urban network or the 2D inundation grid. The region bbox are in WGS 84 as required, but the user should specify the dflowfm model destination CRS in the `global` section in order to allow to use grid definition data (rivers, pipes) from different data sources or CRS. "
   ]
  },
  {
   "cell_type": "markdown",
   "id": "12860ed2",
   "metadata": {},
   "source": [
    "### Set up a HybridUrb network"
   ]
  },
  {
   "cell_type": "code",
   "execution_count": null,
   "id": "hundred-trailer",
   "metadata": {
    "scrolled": true
   },
   "outputs": [],
   "source": [
    "from hybridurb.networksutils.network_from_delft3dfm import Delft3dfmNetworkWrapper\n",
    "import os\n",
    "os.chdir(r\"c:\\Developments\\hybridurb\\examples\")\n",
    "mywrapper = Delft3dfmNetworkWrapper(fn_yml)\n",
    "mywrapper.get_geoms_from_model()\n",
    "mywrapper.get_network_from_geoms()"
   ]
  },
  {
   "cell_type": "markdown",
   "id": "b31e92d2",
   "metadata": {},
   "source": [
    "The example above means the following: run **hydromt build** with:\n",
    "\n",
    "* `dflowfm` : i.e. build a FM model\n",
    "* `./build/dflowfm_1d` : output model folder\n",
    "* `-i dflowfm_build1d.yml`: model build configuration file\n",
    "* `-d artifact_data`: data catalog to use. Here the default artifact data catalog with global data for Northern Italy.\n",
    "* `--fo`: force overwritting in case a model already exists in the output folder.\n",
    "* `-vv` : give some extra verbosity (2 * v) to display feedback on screen. Now debug and info messages are provided rather than only warnings and errors.\n",
    "\n",
    "> NOTE: You can use as many data catalogs as you need within the same command line, by repeating the `-d` options and name of the catalog to use several times."
   ]
  },
  {
   "cell_type": "markdown",
   "id": "df54f1ca",
   "metadata": {},
   "source": [
    "Next we check the model files that have been created. "
   ]
  },
  {
   "cell_type": "code",
   "execution_count": null,
   "id": "d6b81208",
   "metadata": {},
   "outputs": [],
   "source": [
    "import os\n",
    "\n",
    "root = \"./build/dflowfm_1d/\"\n",
    "for path, _, files in os.walk(root):\n",
    "    print(path)\n",
    "    for name in files:\n",
    "        print(f\" - {name}\")"
   ]
  },
  {
   "cell_type": "markdown",
   "id": "2eed76e4",
   "metadata": {},
   "source": [
    "The model root should contain three files and four folders:\n",
    "\n",
    "- dimr_config.xml: Configuration file to execute Delft3D FM in Deltares Integrated Model Runner (DIMR).\n",
    "- hydromt.log: log saved by HydroMT on model building steps.\n",
    "- hydromt_data.yml: information saved by HydroMT on used datasets for reproducibility.\n",
    "- **dflowfm** folder: dflowfm files, here for our 1D model. Contains all necessary information to run a 1D model including the mesh1d, roughness, cross-sections, 1D boundary forcing.   The configuration MDU file is also created as well as a *.gui* file to visualize the 1D network in the Delft3D FM GUI.\n",
    "- **geoms** folder: folder containing a copy of the dflowfm data in an easily readable GIS format rather than the ini or UGRID netcdf file.\n",
    "- **maps** folder: folder containing regular gridded data that Delft3D FM can interpolate to the 2D mesh grid. Here empty as we have a 1D model only."
   ]
  },
  {
   "cell_type": "markdown",
   "id": "adef7fa1",
   "metadata": {},
   "source": [
    "### Visualize and/or inspect model schematization"
   ]
  },
  {
   "cell_type": "markdown",
   "id": "20ce9df3",
   "metadata": {},
   "source": [
    "* We can now load the **dimr_config.xml** into **Delft3D FM GUI**.\n",
    "* The **dflowfm plot** [example notebook](https://deltares.github.io/hydromt_delft3dfm/latest/_examples/plot_dflowfm_mesh.html) contains scripts to visualize your model in python: "
   ]
  }
 ],
 "metadata": {
  "kernelspec": {
   "display_name": "waterbom",
   "language": "python",
   "name": "python3"
  },
  "language_info": {
   "codemirror_mode": {
    "name": "ipython",
    "version": 3
   },
   "file_extension": ".py",
   "mimetype": "text/x-python",
   "name": "python",
   "nbconvert_exporter": "python",
   "pygments_lexer": "ipython3",
   "version": "3.11.6"
  },
  "vscode": {
   "interpreter": {
    "hash": "5fda536963eae36dbaef69f7df44483d2713515b4e134e53fb983ec0eb9438d0"
   }
  }
 },
 "nbformat": 4,
 "nbformat_minor": 5
}
